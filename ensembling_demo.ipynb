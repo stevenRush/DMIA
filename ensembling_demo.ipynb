{
 "cells": [
  {
   "cell_type": "code",
   "execution_count": 12,
   "metadata": {
    "collapsed": true
   },
   "outputs": [],
   "source": [
    "import numpy as np\n",
    "import pandas as pd\n",
    "\n",
    "%matplotlib inline \n",
    "import matplotlib.pyplot as plt"
   ]
  },
  {
   "cell_type": "code",
   "execution_count": 2,
   "metadata": {
    "collapsed": true
   },
   "outputs": [],
   "source": [
    "train = pd.read_csv('../data/train.csv')\n",
    "test = pd.read_csv('../data/test.csv')\n",
    "\n",
    "labels = train['TARGET']\n",
    "train.drop(['TARGET', 'ID'], axis=1, inplace=1)\n",
    "test.drop(['ID'], axis=1, inplace=1)"
   ]
  },
  {
   "cell_type": "markdown",
   "metadata": {},
   "source": [
    "### Зафиксируем разбиение выборки"
   ]
  },
  {
   "cell_type": "code",
   "execution_count": 4,
   "metadata": {
    "collapsed": false
   },
   "outputs": [],
   "source": [
    "from sklearn.cross_validation import cross_val_predict, StratifiedKFold\n",
    "\n",
    "cv = StratifiedKFold(labels, n_folds=5, random_state=0)"
   ]
  },
  {
   "cell_type": "markdown",
   "metadata": {},
   "source": [
    "Вставим небольшой костыль. Sklearn не умеет делать cross_val_predict для предсказания вероятностей"
   ]
  },
  {
   "cell_type": "code",
   "execution_count": 7,
   "metadata": {
    "collapsed": true
   },
   "outputs": [],
   "source": [
    "from sklearn.base import BaseEstimator\n",
    "\n",
    "class ProbaEstimator(BaseEstimator):\n",
    "    def __init__(self, estimator):\n",
    "        self.estimator = estimator\n",
    "        \n",
    "    def fit(self, X, y):\n",
    "        self.estimator.fit(X, y)\n",
    "        return self\n",
    "    \n",
    "    def predict(self, X):\n",
    "        return self.estimator.predict_proba(X)\n",
    "    \n",
    "    def predict_proba(self, X):\n",
    "        return self.estimator.predict_proba(X)"
   ]
  },
  {
   "cell_type": "markdown",
   "metadata": {},
   "source": [
    "### Подготовим модели"
   ]
  },
  {
   "cell_type": "markdown",
   "metadata": {},
   "source": [
    "Важно, чтобы разбиение оставалось фиксированным!"
   ]
  },
  {
   "cell_type": "code",
   "execution_count": 8,
   "metadata": {
    "collapsed": true
   },
   "outputs": [],
   "source": [
    "from sklearn.ensemble import RandomForestClassifier\n",
    "\n",
    "rf = RandomForestClassifier(n_estimators=100, n_jobs=-1)\n",
    "preds_rf = cross_val_predict(ProbaEstimator(rf), train, labels, cv=cv)\n",
    "preds_test_rf = rf.fit(train, labels).predict_proba(test)"
   ]
  },
  {
   "cell_type": "code",
   "execution_count": 10,
   "metadata": {
    "collapsed": false
   },
   "outputs": [],
   "source": [
    "from sklearn.linear_model import LogisticRegression\n",
    "from sklearn.preprocessing import scale\n",
    "\n",
    "lr = LogisticRegression(C=1e-1)\n",
    "preds_lr = cross_val_predict(ProbaEstimator(lr), scale(train), labels, cv=cv)\n",
    "preds_test_lr = lr.fit(scale(train), labels).predict_proba(scale(test))"
   ]
  },
  {
   "cell_type": "markdown",
   "metadata": {},
   "source": [
    "### Проверим качество отдельных классификаторов"
   ]
  },
  {
   "cell_type": "code",
   "execution_count": 14,
   "metadata": {
    "collapsed": false
   },
   "outputs": [
    {
     "name": "stdout",
     "output_type": "stream",
     "text": [
      "Random Forest: 0.749\n",
      "Logistic Regression 0.792\n"
     ]
    }
   ],
   "source": [
    "from sklearn.metrics import roc_auc_score\n",
    "\n",
    "print 'Random Forest: {0:0.3f}'.format(roc_auc_score(labels, preds_rf[:, 1]))\n",
    "print 'Logistic Regression {0:0.3f}'.format(roc_auc_score(labels, preds_lr[:, 1]))"
   ]
  },
  {
   "cell_type": "markdown",
   "metadata": {},
   "source": [
    "### Стратегия 1: Blending"
   ]
  },
  {
   "cell_type": "code",
   "execution_count": 16,
   "metadata": {
    "collapsed": false
   },
   "outputs": [
    {
     "name": "stdout",
     "output_type": "stream",
     "text": [
      "Best score: 0.805\n",
      "Best alpha: 0.333\n"
     ]
    },
    {
     "data": {
      "image/png": "[encoded data removed]",
      "text/plain": [
       "<matplotlib.figure.Figure at 0x7fe55a90d4d0>"
      ]
     },
     "metadata": {},
     "output_type": "display_data"
    }
   ],
   "source": [
    "weights = np.linspace(0, 1, 100)\n",
    "scores = np.zeros_like(weights)\n",
    "\n",
    "for index, alpha in enumerate(weights):\n",
    "    preds = alpha * preds_rf + (1-alpha) * preds_lr\n",
    "    score = roc_auc_score(labels, preds[:, 1])\n",
    "    scores[index] = score\n",
    "\n",
    "plt.plot(weights, scores)\n",
    "print 'Best score: {0:0.3f}'.format(scores.max())\n",
    "print 'Best alpha: {0:0.3f}'.format(weights[scores.argmax()])"
   ]
  },
  {
   "cell_type": "markdown",
   "metadata": {},
   "source": [
    "Посчитаем ответ!"
   ]
  },
  {
   "cell_type": "code",
   "execution_count": 17,
   "metadata": {
    "collapsed": true
   },
   "outputs": [],
   "source": [
    "alpha = 0.333\n",
    "final_blending_prediction = alpha * preds_test_rf + (1-alpha) * preds_test_lr"
   ]
  },
  {
   "cell_type": "markdown",
   "metadata": {},
   "source": [
    "### Стратегия 2: Stacking"
   ]
  },
  {
   "cell_type": "code",
   "execution_count": 32,
   "metadata": {
    "collapsed": false
   },
   "outputs": [
    {
     "name": "stdout",
     "output_type": "stream",
     "text": [
      "0.804407210801\n"
     ]
    }
   ],
   "source": [
    "from sklearn.cross_validation import cross_val_score\n",
    "\n",
    "train_stacking = np.hstack([preds_rf, preds_lr])\n",
    "test_stacking = np.hstack([preds_test_rf, preds_test_lr])\n",
    "\n",
    "lr_stacking = LogisticRegression(C=1)\n",
    "print cross_val_score(lr_stacking, train_stacking, labels, scoring='roc_auc', cv=cv).mean()"
   ]
  },
  {
   "cell_type": "markdown",
   "metadata": {},
   "source": [
    "Сделаем предсказание для теста!"
   ]
  },
  {
   "cell_type": "code",
   "execution_count": 33,
   "metadata": {
    "collapsed": true
   },
   "outputs": [],
   "source": [
    "final_stacking_prediction = lr_stacking.fit(train_stacking, labels).predict_proba(test_stacking)"
   ]
  }
 ],
 "metadata": {
  "kernelspec": {
   "display_name": "Python 2",
   "language": "python",
   "name": "python2"
  },
  "language_info": {
   "codemirror_mode": {
    "name": "ipython",
    "version": 2
   },
   "file_extension": ".py",
   "mimetype": "text/x-python",
   "name": "python",
   "nbconvert_exporter": "python",
   "pygments_lexer": "ipython2",
   "version": "2.7.6"
  }
 },
 "nbformat": 4,
 "nbformat_minor": 0
}
